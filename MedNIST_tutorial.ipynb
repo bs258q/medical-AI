{
  "cells": [
    {
      "cell_type": "markdown",
      "metadata": {
        "id": "JeC6o5OMAFN7"
      },
      "source": [
        "\n",
        "# Image Classification Tutorial with the MedNIST Dataset\n",
        "\n",
        "Introduction\n",
        "In this tutorial, we introduce an end-to-end training and evaluation example based on the MedNIST dataset.\n",
        "We'll go through the following steps:\n",
        "\n",
        "- Create a MONAI Dataset for training and testing\n",
        "- Use MONAI transforms to pre-process data\n",
        "- Use the DenseNet from MONAI for the classification task\n",
        "- Train the model with a PyTorch program\n",
        "- Evaluate on test dataset\n",
        "\n",
        "### Get the dataset\n",
        "The MedNIST dataset was gathered from several sets from [TCIA](https://wiki.cancerimagingarchive.net/display/Public/Data+Usage+Policies+and+Restrictions), [the RSNA Bone Age Challenge](http://rsnachallenges.cloudapp.net/competitions/4), and [the NIH Chest X-ray dataset](https://cloud.google.com/healthcare/docs/resources/public-datasets/nih-chest).\n",
        "\n",
        "The dataset is kindly made available by [Dr. Bradley J. Erickson M.D., Ph.D.](https://www.mayo.edu/research/labs/radiology-informatics/overview) (Department of Radiology, Mayo Clinic) under the Creative Commons [CC BY-SA 4.0 license](https://creativecommons.org/licenses/by-sa/4.0/). If you use the MedNIST dataset, please acknowledge the source, e.g.\n",
        "\n",
        "https://github.com/Project-MONAI/MONAI/blob/master/examples/notebooks/mednist_tutorial.ipynb.\n",
        "\n",
        "The following commands download and unzip the dataset (~60MB).\n"
      ]
    },
    {
      "cell_type": "code",
      "execution_count": 1,
      "metadata": {
        "id": "BZTNbFpgA6rX"
      },
      "outputs": [],
      "source": [
        "!wget -q https://www.dropbox.com/s/5wwskxctvcxiuea/MedNIST.tar.gz"
      ]
    },
    {
      "cell_type": "code",
      "execution_count": 2,
      "metadata": {
        "id": "jyDZo_qaBEyn"
      },
      "outputs": [],
      "source": [
        "# unzip the '.tar.gz' file to the current directory\n",
        "import tarfile\n",
        "datafile = tarfile.open(\"MedNIST.tar.gz\")\n",
        "datafile.extractall()\n",
        "datafile.close()"
      ]
    },
    {
      "cell_type": "markdown",
      "metadata": {
        "id": "c3rUPlOhBsnR"
      },
      "source": [
        "Install MONAI"
      ]
    },
    {
      "cell_type": "code",
      "execution_count": 3,
      "metadata": {
        "id": "oRsBnGJeBJgW",
        "colab": {
          "base_uri": "https://localhost:8080/"
        },
        "outputId": "df4adaca-918d-4068-e43e-d80ac2bcdbe9"
      },
      "outputs": [
        {
          "output_type": "stream",
          "name": "stdout",
          "text": [
            "\u001b[2K   \u001b[90m━━━━━━━━━━━━━━━━━━━━━━━━━━━━━━━━━━━━━━━━\u001b[0m \u001b[32m80.9/80.9 MB\u001b[0m \u001b[31m8.2 MB/s\u001b[0m eta \u001b[36m0:00:00\u001b[0m\n",
            "\u001b[2K   \u001b[90m━━━━━━━━━━━━━━━━━━━━━━━━━━━━━━━━━━━━━━━━\u001b[0m \u001b[32m67.8/67.8 MB\u001b[0m \u001b[31m9.0 MB/s\u001b[0m eta \u001b[36m0:00:00\u001b[0m\n",
            "\u001b[2K   \u001b[90m━━━━━━━━━━━━━━━━━━━━━━━━━━━━━━━━━━━━━━━━\u001b[0m \u001b[32m28.0/28.0 MB\u001b[0m \u001b[31m11.3 MB/s\u001b[0m eta \u001b[36m0:00:00\u001b[0m\n",
            "\u001b[2K   \u001b[90m━━━━━━━━━━━━━━━━━━━━━━━━━━━━━━━━━━━━━━━━\u001b[0m \u001b[32m57.2/57.2 MB\u001b[0m \u001b[31m14.0 MB/s\u001b[0m eta \u001b[36m0:00:00\u001b[0m\n",
            "\u001b[2K   \u001b[90m━━━━━━━━━━━━━━━━━━━━━━━━━━━━━━━━━━━━━━━━\u001b[0m \u001b[32m28.5/28.5 MB\u001b[0m \u001b[31m10.7 MB/s\u001b[0m eta \u001b[36m0:00:00\u001b[0m\n",
            "\u001b[2K   \u001b[90m━━━━━━━━━━━━━━━━━━━━━━━━━━━━━━━━━━━━━━━━\u001b[0m \u001b[32m15.9/15.9 MB\u001b[0m \u001b[31m16.7 MB/s\u001b[0m eta \u001b[36m0:00:00\u001b[0m\n",
            "\u001b[2K   \u001b[90m━━━━━━━━━━━━━━━━━━━━━━━━━━━━━━━━━━━━━━━━\u001b[0m \u001b[32m363.4/363.4 MB\u001b[0m \u001b[31m1.3 MB/s\u001b[0m eta \u001b[36m0:00:00\u001b[0m\n",
            "\u001b[2K   \u001b[90m━━━━━━━━━━━━━━━━━━━━━━━━━━━━━━━━━━━━━━━━\u001b[0m \u001b[32m13.8/13.8 MB\u001b[0m \u001b[31m65.4 MB/s\u001b[0m eta \u001b[36m0:00:00\u001b[0m\n",
            "\u001b[2K   \u001b[90m━━━━━━━━━━━━━━━━━━━━━━━━━━━━━━━━━━━━━━━━\u001b[0m \u001b[32m24.6/24.6 MB\u001b[0m \u001b[31m59.2 MB/s\u001b[0m eta \u001b[36m0:00:00\u001b[0m\n",
            "\u001b[2K   \u001b[90m━━━━━━━━━━━━━━━━━━━━━━━━━━━━━━━━━━━━━━━━\u001b[0m \u001b[32m883.7/883.7 kB\u001b[0m \u001b[31m49.6 MB/s\u001b[0m eta \u001b[36m0:00:00\u001b[0m\n",
            "\u001b[2K   \u001b[90m━━━━━━━━━━━━━━━━━━━━━━━━━━━━━━━━━━━━━━━━\u001b[0m \u001b[32m664.8/664.8 MB\u001b[0m \u001b[31m2.3 MB/s\u001b[0m eta \u001b[36m0:00:00\u001b[0m\n",
            "\u001b[2K   \u001b[90m━━━━━━━━━━━━━━━━━━━━━━━━━━━━━━━━━━━━━━━━\u001b[0m \u001b[32m211.5/211.5 MB\u001b[0m \u001b[31m5.8 MB/s\u001b[0m eta \u001b[36m0:00:00\u001b[0m\n",
            "\u001b[2K   \u001b[90m━━━━━━━━━━━━━━━━━━━━━━━━━━━━━━━━━━━━━━━━\u001b[0m \u001b[32m56.3/56.3 MB\u001b[0m \u001b[31m12.6 MB/s\u001b[0m eta \u001b[36m0:00:00\u001b[0m\n",
            "\u001b[2K   \u001b[90m━━━━━━━━━━━━━━━━━━━━━━━━━━━━━━━━━━━━━━━━\u001b[0m \u001b[32m127.9/127.9 MB\u001b[0m \u001b[31m7.1 MB/s\u001b[0m eta \u001b[36m0:00:00\u001b[0m\n",
            "\u001b[2K   \u001b[90m━━━━━━━━━━━━━━━━━━━━━━━━━━━━━━━━━━━━━━━━\u001b[0m \u001b[32m207.5/207.5 MB\u001b[0m \u001b[31m5.5 MB/s\u001b[0m eta \u001b[36m0:00:00\u001b[0m\n",
            "\u001b[2K   \u001b[90m━━━━━━━━━━━━━━━━━━━━━━━━━━━━━━━━━━━━━━━━\u001b[0m \u001b[32m21.1/21.1 MB\u001b[0m \u001b[31m90.3 MB/s\u001b[0m eta \u001b[36m0:00:00\u001b[0m\n",
            "\u001b[2K   \u001b[90m━━━━━━━━━━━━━━━━━━━━━━━━━━━━━━━━━━━━━━━━\u001b[0m \u001b[32m2.6/2.6 MB\u001b[0m \u001b[31m75.3 MB/s\u001b[0m eta \u001b[36m0:00:00\u001b[0m\n",
            "\u001b[?25h"
          ]
        }
      ],
      "source": [
        "!pip install -q \"monai-weekly[gdown, nibabel, tqdm, itk]\""
      ]
    },
    {
      "cell_type": "code",
      "execution_count": 4,
      "metadata": {
        "colab": {
          "base_uri": "https://localhost:8080/"
        },
        "id": "Ty_YA-cLBpyr",
        "outputId": "cb896a06-cad0-4fd3-917b-7dab5f5bd861"
      },
      "outputs": [
        {
          "output_type": "stream",
          "name": "stdout",
          "text": [
            "MONAI version: 1.5.dev2507\n",
            "Numpy version: 1.26.4\n",
            "Pytorch version: 2.5.1+cu124\n",
            "MONAI flags: HAS_EXT = False, USE_COMPILED = False, USE_META_DICT = False\n",
            "MONAI rev id: bbd080bb9d263c06a0884a871b645a434e3d4cdd\n",
            "MONAI __file__: /usr/local/lib/python3.11/dist-packages/monai/__init__.py\n",
            "\n",
            "Optional dependencies:\n",
            "Pytorch Ignite version: NOT INSTALLED or UNKNOWN VERSION.\n",
            "ITK version: 5.4.2\n",
            "Nibabel version: 5.3.2\n",
            "scikit-image version: 0.25.1\n",
            "scipy version: 1.13.1\n",
            "Pillow version: 11.1.0\n",
            "Tensorboard version: 2.18.0\n",
            "gdown version: 5.2.0\n",
            "TorchVision version: 0.20.1+cu124\n",
            "tqdm version: 4.67.1\n",
            "lmdb version: NOT INSTALLED or UNKNOWN VERSION.\n",
            "psutil version: 5.9.5\n",
            "pandas version: 2.2.2\n",
            "einops version: 0.8.1\n",
            "transformers version: 4.48.3\n",
            "mlflow version: NOT INSTALLED or UNKNOWN VERSION.\n",
            "pynrrd version: NOT INSTALLED or UNKNOWN VERSION.\n",
            "clearml version: NOT INSTALLED or UNKNOWN VERSION.\n",
            "\n",
            "For details about installing the optional dependencies, please visit:\n",
            "    https://docs.monai.io/en/latest/installation.html#installing-the-recommended-dependencies\n",
            "\n"
          ]
        }
      ],
      "source": [
        "import os\n",
        "import shutil\n",
        "import tempfile\n",
        "import matplotlib.pyplot as plt\n",
        "from PIL import Image\n",
        "import torch\n",
        "import numpy as np\n",
        "from sklearn.metrics import classification_report\n",
        "\n",
        "from monai.apps import download_and_extract\n",
        "from monai.config import print_config\n",
        "from monai.metrics import ROCAUCMetric\n",
        "from monai.networks.nets import DenseNet121\n",
        "from monai.transforms import (\n",
        "    Activations,\n",
        "    EnsureChannelFirst,\n",
        "    AsDiscrete,\n",
        "    Compose,\n",
        "    LoadImage,\n",
        "    RandFlip,\n",
        "    RandRotate,\n",
        "    RandZoom,\n",
        "    ScaleIntensity,\n",
        "    ToTensor,\n",
        ")\n",
        "from monai.data import Dataset, DataLoader\n",
        "from monai.utils import set_determinism\n",
        "\n",
        "print_config()"
      ]
    },
    {
      "cell_type": "markdown",
      "metadata": {
        "id": "qHhD_snaB70p"
      },
      "source": [
        "\n",
        "## Read image filenames from the dataset folders\n",
        "First of all, check the dataset files and show some statistics.\n",
        "There are 6 folders in the dataset: Hand, AbdomenCT, CXR, ChestCT, BreastMRI, HeadCT,\n",
        "which should be used as the labels to train our classification model."
      ]
    },
    {
      "cell_type": "code",
      "execution_count": 5,
      "metadata": {
        "colab": {
          "base_uri": "https://localhost:8080/"
        },
        "id": "ZaHFhidyCBJa",
        "outputId": "b1c323de-de70-4d71-ce8e-92217b5de777"
      },
      "outputs": [
        {
          "output_type": "stream",
          "name": "stdout",
          "text": [
            "Total image count: 58954\n",
            "Image dimensions: 64 x 64\n",
            "Label names: ['AbdomenCT', 'BreastMRI', 'CXR', 'ChestCT', 'Hand', 'HeadCT']\n",
            "Label counts: [10000, 8954, 10000, 10000, 10000, 10000]\n"
          ]
        }
      ],
      "source": [
        "data_dir = './MedNIST/'\n",
        "class_names = sorted([x for x in os.listdir(data_dir) if os.path.isdir(os.path.join(data_dir, x))])\n",
        "num_class = len(class_names)\n",
        "image_files = [[os.path.join(data_dir, class_name, x)\n",
        "                for x in os.listdir(os.path.join(data_dir, class_name))]\n",
        "               for class_name in class_names]\n",
        "image_file_list = []\n",
        "image_label_list = []\n",
        "for i, class_name in enumerate(class_names):\n",
        "    image_file_list.extend(image_files[i])\n",
        "    image_label_list.extend([i] * len(image_files[i]))\n",
        "num_total = len(image_label_list)\n",
        "image_width, image_height = Image.open(image_file_list[0]).size\n",
        "\n",
        "print('Total image count:', num_total)\n",
        "print(\"Image dimensions:\", image_width, \"x\", image_height)\n",
        "print(\"Label names:\", class_names)\n",
        "print(\"Label counts:\", [len(image_files[i]) for i in range(num_class)])"
      ]
    },
    {
      "cell_type": "markdown",
      "metadata": {
        "id": "9KuPf7t-CFEV"
      },
      "source": [
        "## Visualise some randomly picked examples from the dataset"
      ]
    },
    {
      "cell_type": "code",
      "execution_count": 6,
      "metadata": {
        "colab": {
          "base_uri": "https://localhost:8080/",
          "height": 806
        },
        "id": "p7kXrcmPCQPU",
        "outputId": "20913040-3ed4-46e7-c8fc-821e5319539f"
      },
      "outputs": [
        {
          "output_type": "display_data",
          "data": {
            "text/plain": [
              "<Figure size 800x800 with 9 Axes>"
            ],
            "image/png": "[encoded data removed]"
          },
          "metadata": {}
        }
      ],
      "source": [
        "plt.subplots(3, 3, figsize=(8, 8))\n",
        "for i,k in enumerate(np.random.randint(num_total, size=9)):\n",
        "    im = Image.open(image_file_list[k])\n",
        "    arr = np.array(im)\n",
        "    plt.subplot(3, 3, i + 1)\n",
        "    plt.xlabel(class_names[image_label_list[k]])\n",
        "    plt.imshow(arr, cmap='gray', vmin=0, vmax=255)\n",
        "plt.tight_layout()\n",
        "plt.show()"
      ]
    },
    {
      "cell_type": "markdown",
      "metadata": {
        "id": "tkguefb6CTw5"
      },
      "source": [
        "## Prepare training, validation and test data lists\n",
        "Randomly select 10% of the dataset as validation and 10% as test."
      ]
    },
    {
      "cell_type": "code",
      "execution_count": 7,
      "metadata": {
        "colab": {
          "base_uri": "https://localhost:8080/"
        },
        "id": "WuryrHlpCYfK",
        "outputId": "3262472a-d50d-4281-ea6b-4348e09f5d5b"
      },
      "outputs": [
        {
          "output_type": "stream",
          "name": "stdout",
          "text": [
            "Training count = 47208 Validation count = 5846 Test count = 5900\n"
          ]
        }
      ],
      "source": [
        "valid_frac, test_frac = 0.1, 0.1\n",
        "trainX, trainY = [], []\n",
        "valX, valY = [], []\n",
        "testX, testY = [], []\n",
        "\n",
        "for i in range(num_total):\n",
        "    rann = np.random.random()\n",
        "    if rann < valid_frac:\n",
        "        valX.append(image_file_list[i])\n",
        "        valY.append(image_label_list[i])\n",
        "    elif rann < test_frac + valid_frac:\n",
        "        testX.append(image_file_list[i])\n",
        "        testY.append(image_label_list[i])\n",
        "    else:\n",
        "        trainX.append(image_file_list[i])\n",
        "        trainY.append(image_label_list[i])\n",
        "\n",
        "print(\"Training count =\",len(trainX),\"Validation count =\", len(valX), \"Test count =\",len(testX))"
      ]
    },
    {
      "cell_type": "markdown",
      "metadata": {
        "id": "IJRqm8MNCbi4"
      },
      "source": [
        "## Define MONAI transforms, Dataset and Dataloader to pre-process data"
      ]
    },
    {
      "cell_type": "code",
      "execution_count": 8,
      "metadata": {
        "id": "PMsUgaYNCfrw"
      },
      "outputs": [],
      "source": [
        "train_transforms = Compose([\n",
        "    LoadImage(image_only=True),\n",
        "    EnsureChannelFirst(),\n",
        "    ScaleIntensity(),\n",
        "    RandRotate(range_x=15, prob=0.5, keep_size=True),\n",
        "    RandFlip(spatial_axis=0, prob=0.5),\n",
        "    RandZoom(min_zoom=0.9, max_zoom=1.1, prob=0.5, keep_size=True),\n",
        "    ToTensor()\n",
        "])\n",
        "\n",
        "val_transforms = Compose([\n",
        "    LoadImage(image_only=True),\n",
        "    EnsureChannelFirst(),\n",
        "    ScaleIntensity(),\n",
        "    ToTensor()\n",
        "])\n",
        "\n",
        "act = Activations(softmax=True)\n",
        "to_onehot = AsDiscrete(to_onehot=num_class)"
      ]
    },
    {
      "cell_type": "code",
      "execution_count": 9,
      "metadata": {
        "id": "JJgCYleyCpTT"
      },
      "outputs": [],
      "source": [
        "class MedNISTDataset(Dataset):\n",
        "\n",
        "    def __init__(self, image_files, labels, transforms):\n",
        "        self.image_files = image_files\n",
        "        self.labels = labels\n",
        "        self.transforms = transforms\n",
        "\n",
        "    def __len__(self):\n",
        "        return len(self.image_files)\n",
        "\n",
        "    def __getitem__(self, index):\n",
        "        return self.transforms(self.image_files[index]), self.labels[index]\n",
        "\n",
        "train_ds = MedNISTDataset(trainX, trainY, train_transforms)\n",
        "train_loader = DataLoader(train_ds, batch_size=300, shuffle=True, num_workers=2)\n",
        "\n",
        "val_ds = MedNISTDataset(valX, valY, val_transforms)\n",
        "val_loader = DataLoader(val_ds, batch_size=300, num_workers=2)\n",
        "\n",
        "test_ds = MedNISTDataset(testX, testY, val_transforms)\n",
        "test_loader = DataLoader(test_ds, batch_size=300, num_workers=2)"
      ]
    },
    {
      "cell_type": "markdown",
      "metadata": {
        "id": "hmwtEGBbCtuL"
      },
      "source": [
        "## Define network and optimizer\n",
        "1. Set learning rate for how much the model is updated per batch.\n",
        "2. Set total epoch number, as we have shuffle and random transforms, so the training data of every epoch is different.\n",
        "And as this is just a get start tutorial, let's just train 4 epochs.\n",
        "If train 10 epochs, the model can achieve 100% accuracy on test dataset.\n",
        "3. Use DenseNet from MONAI and move to GPU devide, this DenseNet can support both 2D and 3D classification tasks.\n",
        "4. Use Adam optimizer."
      ]
    },
    {
      "cell_type": "code",
      "execution_count": 10,
      "metadata": {
        "id": "3efM0bwsC1wS"
      },
      "outputs": [],
      "source": [
        "device = torch.device(\"cuda:0\")\n",
        "model = DenseNet121(\n",
        "    spatial_dims=2,\n",
        "    in_channels=1,\n",
        "    out_channels=num_class\n",
        ").to(device)\n",
        "loss_function = torch.nn.CrossEntropyLoss()\n",
        "optimizer = torch.optim.Adam(model.parameters(), 1e-5)\n",
        "epoch_num = 3\n",
        "val_interval = 1"
      ]
    },
    {
      "cell_type": "markdown",
      "metadata": {
        "id": "6XpGqz_oDkXP"
      },
      "source": [
        "## Model training\n",
        "Execute a typical PyTorch training that run epoch loop and step loop, and do validation after every epoch.\n",
        "Will save the model weights to file if got best validation accuracy."
      ]
    },
    {
      "cell_type": "code",
      "execution_count": 11,
      "metadata": {
        "colab": {
          "base_uri": "https://localhost:8080/"
        },
        "id": "MpKhLo3YDpXw",
        "outputId": "9f3318bc-0418-41e3-e429-1d8d03f7fcdf"
      },
      "outputs": [
        {
          "metadata": {
            "tags": null
          },
          "name": "stdout",
          "output_type": "stream",
          "text": [
            "----------\n",
            "epoch 1/3\n",
            "1/157, train_loss: 1.8320\n",
            "2/157, train_loss: 1.7949\n",
            "3/157, train_loss: 1.7858\n",
            "4/157, train_loss: 1.7641\n",
            "5/157, train_loss: 1.7332\n",
            "6/157, train_loss: 1.6971\n",
            "7/157, train_loss: 1.7101\n",
            "8/157, train_loss: 1.6700\n",
            "9/157, train_loss: 1.6337\n",
            "10/157, train_loss: 1.6283\n",
            "11/157, train_loss: 1.6188\n",
            "12/157, train_loss: 1.5867\n",
            "13/157, train_loss: 1.5532\n",
            "14/157, train_loss: 1.5298\n",
            "15/157, train_loss: 1.5356\n",
            "16/157, train_loss: 1.5078\n",
            "17/157, train_loss: 1.4759\n",
            "18/157, train_loss: 1.4804\n",
            "19/157, train_loss: 1.4360\n",
            "20/157, train_loss: 1.4341\n",
            "21/157, train_loss: 1.4271\n",
            "22/157, train_loss: 1.3698\n",
            "23/157, train_loss: 1.3871\n",
            "24/157, train_loss: 1.3593\n",
            "25/157, train_loss: 1.3149\n",
            "26/157, train_loss: 1.3253\n",
            "27/157, train_loss: 1.3050\n",
            "28/157, train_loss: 1.2992\n",
            "29/157, train_loss: 1.2898\n",
            "30/157, train_loss: 1.2488\n",
            "31/157, train_loss: 1.2445\n",
            "32/157, train_loss: 1.2397\n",
            "33/157, train_loss: 1.2202\n",
            "34/157, train_loss: 1.2149\n",
            "35/157, train_loss: 1.1572\n",
            "36/157, train_loss: 1.1597\n",
            "37/157, train_loss: 1.1819\n",
            "38/157, train_loss: 1.1171\n",
            "39/157, train_loss: 1.1301\n",
            "40/157, train_loss: 1.1103\n",
            "41/157, train_loss: 1.1077\n",
            "42/157, train_loss: 1.0558\n",
            "43/157, train_loss: 1.0538\n",
            "44/157, train_loss: 1.0181\n",
            "45/157, train_loss: 1.0787\n",
            "46/157, train_loss: 1.0205\n",
            "47/157, train_loss: 1.0248\n",
            "48/157, train_loss: 1.0194\n",
            "49/157, train_loss: 1.0389\n",
            "50/157, train_loss: 0.9716\n",
            "51/157, train_loss: 0.9609\n",
            "52/157, train_loss: 0.9930\n",
            "53/157, train_loss: 0.9821\n",
            "54/157, train_loss: 0.9356\n",
            "55/157, train_loss: 0.9705\n",
            "56/157, train_loss: 0.9227\n",
            "57/157, train_loss: 0.8954\n",
            "58/157, train_loss: 0.9608\n",
            "59/157, train_loss: 0.9193\n",
            "60/157, train_loss: 0.8855\n",
            "61/157, train_loss: 0.8860\n",
            "62/157, train_loss: 0.8404\n",
            "63/157, train_loss: 0.8737\n",
            "64/157, train_loss: 0.8130\n",
            "65/157, train_loss: 0.8664\n",
            "66/157, train_loss: 0.7989\n",
            "67/157, train_loss: 0.7694\n",
            "68/157, train_loss: 0.7907\n",
            "69/157, train_loss: 0.7756\n",
            "70/157, train_loss: 0.8171\n",
            "71/157, train_loss: 0.8071\n",
            "72/157, train_loss: 0.7294\n",
            "73/157, train_loss: 0.7514\n",
            "74/157, train_loss: 0.7680\n",
            "75/157, train_loss: 0.7271\n",
            "76/157, train_loss: 0.7355\n",
            "77/157, train_loss: 0.7530\n",
            "78/157, train_loss: 0.7502\n",
            "79/157, train_loss: 0.7194\n",
            "80/157, train_loss: 0.7044\n",
            "81/157, train_loss: 0.6857\n",
            "82/157, train_loss: 0.6686\n",
            "83/157, train_loss: 0.6340\n",
            "84/157, train_loss: 0.6504\n",
            "85/157, train_loss: 0.6711\n",
            "86/157, train_loss: 0.6637\n",
            "87/157, train_loss: 0.6205\n",
            "88/157, train_loss: 0.6301\n",
            "89/157, train_loss: 0.6346\n",
            "90/157, train_loss: 0.6167\n",
            "91/157, train_loss: 0.6180\n",
            "92/157, train_loss: 0.6211\n",
            "93/157, train_loss: 0.6195\n",
            "94/157, train_loss: 0.5719\n",
            "95/157, train_loss: 0.6088\n",
            "96/157, train_loss: 0.5611\n",
            "97/157, train_loss: 0.5720\n",
            "98/157, train_loss: 0.5220\n",
            "99/157, train_loss: 0.5683\n",
            "100/157, train_loss: 0.5861\n",
            "101/157, train_loss: 0.5271\n",
            "102/157, train_loss: 0.5461\n",
            "103/157, train_loss: 0.5539\n",
            "104/157, train_loss: 0.5383\n",
            "105/157, train_loss: 0.5265\n",
            "106/157, train_loss: 0.5039\n",
            "107/157, train_loss: 0.4983\n",
            "108/157, train_loss: 0.4824\n",
            "109/157, train_loss: 0.4938\n",
            "110/157, train_loss: 0.5278\n",
            "111/157, train_loss: 0.5096\n",
            "112/157, train_loss: 0.4930\n",
            "113/157, train_loss: 0.4640\n",
            "114/157, train_loss: 0.4771\n",
            "115/157, train_loss: 0.4733\n",
            "116/157, train_loss: 0.4741\n",
            "117/157, train_loss: 0.4840\n",
            "118/157, train_loss: 0.4971\n",
            "119/157, train_loss: 0.4255\n",
            "120/157, train_loss: 0.3988\n",
            "121/157, train_loss: 0.4419\n",
            "122/157, train_loss: 0.4630\n",
            "123/157, train_loss: 0.4359\n",
            "124/157, train_loss: 0.4706\n",
            "125/157, train_loss: 0.4734\n",
            "126/157, train_loss: 0.3979\n",
            "127/157, train_loss: 0.4177\n",
            "128/157, train_loss: 0.4106\n",
            "129/157, train_loss: 0.4300\n",
            "130/157, train_loss: 0.3908\n",
            "131/157, train_loss: 0.4120\n",
            "132/157, train_loss: 0.4251\n",
            "133/157, train_loss: 0.3957\n",
            "134/157, train_loss: 0.4280\n",
            "135/157, train_loss: 0.3457\n",
            "136/157, train_loss: 0.3886\n",
            "137/157, train_loss: 0.3515\n",
            "138/157, train_loss: 0.3390\n",
            "139/157, train_loss: 0.4001\n",
            "140/157, train_loss: 0.3940\n",
            "141/157, train_loss: 0.3904\n",
            "142/157, train_loss: 0.4135\n",
            "143/157, train_loss: 0.4061\n",
            "144/157, train_loss: 0.4218\n",
            "145/157, train_loss: 0.3802\n",
            "146/157, train_loss: 0.3515\n",
            "147/157, train_loss: 0.3705\n",
            "148/157, train_loss: 0.3831\n",
            "149/157, train_loss: 0.3405\n",
            "150/157, train_loss: 0.3507\n",
            "151/157, train_loss: 0.3330\n",
            "152/157, train_loss: 0.2974\n",
            "153/157, train_loss: 0.3003\n",
            "154/157, train_loss: 0.3326\n",
            "155/157, train_loss: 0.2935\n",
            "156/157, train_loss: 0.3130\n",
            "157/157, train_loss: 0.3437\n",
            "158/157, train_loss: 0.2897\n",
            "epoch 1 average loss: 0.8212\n",
            "saved new best metric model\n",
            "current epoch: 1 current AUC: 0.9968 current accuracy: 0.9502 best AUC: 0.9502 at epoch: 1\n",
            "----------\n",
            "epoch 2/3\n",
            "1/157, train_loss: 0.2876\n",
            "2/157, train_loss: 0.3386\n",
            "3/157, train_loss: 0.3320\n",
            "4/157, train_loss: 0.2882\n",
            "5/157, train_loss: 0.3046\n",
            "6/157, train_loss: 0.3323\n",
            "7/157, train_loss: 0.3063\n",
            "8/157, train_loss: 0.2864\n",
            "9/157, train_loss: 0.2765\n",
            "10/157, train_loss: 0.2654\n",
            "11/157, train_loss: 0.2722\n",
            "12/157, train_loss: 0.2621\n",
            "13/157, train_loss: 0.2873\n",
            "14/157, train_loss: 0.2679\n",
            "15/157, train_loss: 0.3058\n",
            "16/157, train_loss: 0.2806\n",
            "17/157, train_loss: 0.2639\n",
            "18/157, train_loss: 0.2864\n",
            "19/157, train_loss: 0.3043\n",
            "20/157, train_loss: 0.3174\n",
            "21/157, train_loss: 0.2594\n",
            "22/157, train_loss: 0.2820\n",
            "23/157, train_loss: 0.2667\n",
            "24/157, train_loss: 0.2510\n",
            "25/157, train_loss: 0.2403\n",
            "26/157, train_loss: 0.2547\n",
            "27/157, train_loss: 0.2526\n",
            "28/157, train_loss: 0.2609\n",
            "29/157, train_loss: 0.2950\n",
            "30/157, train_loss: 0.2352\n",
            "31/157, train_loss: 0.2501\n",
            "32/157, train_loss: 0.2474\n",
            "33/157, train_loss: 0.2433\n",
            "34/157, train_loss: 0.2540\n",
            "35/157, train_loss: 0.2468\n",
            "36/157, train_loss: 0.2309\n",
            "37/157, train_loss: 0.2389\n",
            "38/157, train_loss: 0.2858\n",
            "39/157, train_loss: 0.2614\n",
            "40/157, train_loss: 0.2254\n",
            "41/157, train_loss: 0.2089\n",
            "42/157, train_loss: 0.2258\n",
            "43/157, train_loss: 0.2279\n",
            "44/157, train_loss: 0.2266\n",
            "45/157, train_loss: 0.2347\n",
            "46/157, train_loss: 0.2238\n",
            "47/157, train_loss: 0.2352\n",
            "48/157, train_loss: 0.2189\n",
            "49/157, train_loss: 0.1991\n",
            "50/157, train_loss: 0.2154\n",
            "51/157, train_loss: 0.2410\n",
            "52/157, train_loss: 0.2182\n",
            "53/157, train_loss: 0.2225\n",
            "54/157, train_loss: 0.2332\n",
            "55/157, train_loss: 0.2075\n",
            "56/157, train_loss: 0.2221\n",
            "57/157, train_loss: 0.2341\n",
            "58/157, train_loss: 0.2837\n",
            "59/157, train_loss: 0.2006\n",
            "60/157, train_loss: 0.1969\n",
            "61/157, train_loss: 0.1752\n",
            "62/157, train_loss: 0.2065\n",
            "63/157, train_loss: 0.2346\n",
            "64/157, train_loss: 0.2106\n",
            "65/157, train_loss: 0.2099\n",
            "66/157, train_loss: 0.2011\n",
            "67/157, train_loss: 0.1797\n",
            "68/157, train_loss: 0.2187\n",
            "69/157, train_loss: 0.2266\n",
            "70/157, train_loss: 0.1847\n",
            "71/157, train_loss: 0.1870\n",
            "72/157, train_loss: 0.2278\n",
            "73/157, train_loss: 0.2096\n",
            "74/157, train_loss: 0.1872\n",
            "75/157, train_loss: 0.1812\n",
            "76/157, train_loss: 0.1997\n",
            "77/157, train_loss: 0.1815\n",
            "78/157, train_loss: 0.2021\n",
            "79/157, train_loss: 0.1852\n",
            "80/157, train_loss: 0.2376\n",
            "81/157, train_loss: 0.1769\n",
            "82/157, train_loss: 0.1756\n",
            "83/157, train_loss: 0.2019\n",
            "84/157, train_loss: 0.1776\n",
            "85/157, train_loss: 0.1643\n",
            "86/157, train_loss: 0.1765\n",
            "87/157, train_loss: 0.1648\n",
            "88/157, train_loss: 0.1712\n",
            "89/157, train_loss: 0.1712\n",
            "90/157, train_loss: 0.1735\n",
            "91/157, train_loss: 0.1744\n",
            "92/157, train_loss: 0.1603\n",
            "93/157, train_loss: 0.1807\n",
            "94/157, train_loss: 0.1766\n",
            "95/157, train_loss: 0.1620\n",
            "96/157, train_loss: 0.1720\n",
            "97/157, train_loss: 0.1818\n",
            "98/157, train_loss: 0.1668\n",
            "99/157, train_loss: 0.1819\n",
            "100/157, train_loss: 0.1275\n",
            "101/157, train_loss: 0.1454\n",
            "102/157, train_loss: 0.1489\n",
            "103/157, train_loss: 0.1716\n",
            "104/157, train_loss: 0.1464\n",
            "105/157, train_loss: 0.1811\n",
            "106/157, train_loss: 0.1453\n",
            "107/157, train_loss: 0.1635\n",
            "108/157, train_loss: 0.1366\n",
            "109/157, train_loss: 0.1532\n",
            "110/157, train_loss: 0.1704\n",
            "111/157, train_loss: 0.1413\n",
            "112/157, train_loss: 0.1569\n",
            "113/157, train_loss: 0.1943\n",
            "114/157, train_loss: 0.1704\n",
            "115/157, train_loss: 0.1612\n",
            "116/157, train_loss: 0.1361\n",
            "117/157, train_loss: 0.1692\n",
            "118/157, train_loss: 0.1485\n",
            "119/157, train_loss: 0.1484\n",
            "120/157, train_loss: 0.1634\n",
            "121/157, train_loss: 0.1457\n",
            "122/157, train_loss: 0.1371\n",
            "123/157, train_loss: 0.1336\n",
            "124/157, train_loss: 0.1315\n",
            "125/157, train_loss: 0.1398\n",
            "126/157, train_loss: 0.1664\n",
            "127/157, train_loss: 0.1683\n",
            "128/157, train_loss: 0.1584\n",
            "129/157, train_loss: 0.1478\n",
            "130/157, train_loss: 0.1073\n",
            "131/157, train_loss: 0.1557\n",
            "132/157, train_loss: 0.1231\n",
            "133/157, train_loss: 0.1453\n",
            "134/157, train_loss: 0.1388\n",
            "135/157, train_loss: 0.1562\n",
            "136/157, train_loss: 0.1290\n",
            "137/157, train_loss: 0.1383\n",
            "138/157, train_loss: 0.1451\n",
            "139/157, train_loss: 0.1638\n",
            "140/157, train_loss: 0.1412\n",
            "141/157, train_loss: 0.1310\n",
            "142/157, train_loss: 0.1305\n",
            "143/157, train_loss: 0.1233\n",
            "144/157, train_loss: 0.1438\n",
            "145/157, train_loss: 0.1474\n",
            "146/157, train_loss: 0.1292\n",
            "147/157, train_loss: 0.1520\n",
            "148/157, train_loss: 0.1648\n",
            "149/157, train_loss: 0.1422\n",
            "150/157, train_loss: 0.1175\n",
            "151/157, train_loss: 0.1308\n",
            "152/157, train_loss: 0.1136\n",
            "153/157, train_loss: 0.1142\n",
            "154/157, train_loss: 0.1354\n",
            "155/157, train_loss: 0.1450\n",
            "156/157, train_loss: 0.1139\n",
            "157/157, train_loss: 0.1101\n",
            "158/157, train_loss: 0.1807\n",
            "epoch 2 average loss: 0.1985\n",
            "saved new best metric model\n",
            "current epoch: 2 current AUC: 0.9996 current accuracy: 0.9817 best AUC: 0.9817 at epoch: 2\n",
            "----------\n",
            "epoch 3/3\n",
            "1/157, train_loss: 0.1810\n",
            "2/157, train_loss: 0.1513\n",
            "3/157, train_loss: 0.1050\n",
            "4/157, train_loss: 0.1145\n",
            "5/157, train_loss: 0.1208\n",
            "6/157, train_loss: 0.1241\n",
            "7/157, train_loss: 0.1221\n",
            "8/157, train_loss: 0.1101\n",
            "9/157, train_loss: 0.0945\n",
            "10/157, train_loss: 0.1569\n",
            "11/157, train_loss: 0.1005\n",
            "12/157, train_loss: 0.1281\n",
            "13/157, train_loss: 0.1339\n",
            "14/157, train_loss: 0.1317\n",
            "15/157, train_loss: 0.1124\n",
            "16/157, train_loss: 0.1134\n",
            "17/157, train_loss: 0.1371\n",
            "18/157, train_loss: 0.1212\n",
            "19/157, train_loss: 0.1035\n",
            "20/157, train_loss: 0.1009\n",
            "21/157, train_loss: 0.1283\n",
            "22/157, train_loss: 0.1294\n",
            "23/157, train_loss: 0.1133\n",
            "24/157, train_loss: 0.1221\n",
            "25/157, train_loss: 0.1049\n",
            "26/157, train_loss: 0.1189\n",
            "27/157, train_loss: 0.1118\n",
            "28/157, train_loss: 0.1019\n",
            "29/157, train_loss: 0.0869\n",
            "30/157, train_loss: 0.1259\n",
            "31/157, train_loss: 0.1064\n",
            "32/157, train_loss: 0.1014\n",
            "33/157, train_loss: 0.1032\n",
            "34/157, train_loss: 0.1160\n",
            "35/157, train_loss: 0.0850\n",
            "36/157, train_loss: 0.0848\n",
            "37/157, train_loss: 0.0910\n",
            "38/157, train_loss: 0.0760\n",
            "39/157, train_loss: 0.1015\n",
            "40/157, train_loss: 0.0872\n",
            "41/157, train_loss: 0.0895\n",
            "42/157, train_loss: 0.0986\n",
            "43/157, train_loss: 0.1320\n",
            "44/157, train_loss: 0.1083\n",
            "45/157, train_loss: 0.0919\n",
            "46/157, train_loss: 0.1398\n",
            "47/157, train_loss: 0.1187\n",
            "48/157, train_loss: 0.1066\n",
            "49/157, train_loss: 0.0865\n",
            "50/157, train_loss: 0.0964\n",
            "51/157, train_loss: 0.0982\n",
            "52/157, train_loss: 0.1210\n",
            "53/157, train_loss: 0.1055\n",
            "54/157, train_loss: 0.0955\n",
            "55/157, train_loss: 0.0989\n",
            "56/157, train_loss: 0.1089\n",
            "57/157, train_loss: 0.1125\n",
            "58/157, train_loss: 0.1053\n",
            "59/157, train_loss: 0.0789\n",
            "60/157, train_loss: 0.0697\n",
            "61/157, train_loss: 0.1151\n",
            "62/157, train_loss: 0.0981\n",
            "63/157, train_loss: 0.1064\n",
            "64/157, train_loss: 0.0980\n",
            "65/157, train_loss: 0.0750\n",
            "66/157, train_loss: 0.0758\n",
            "67/157, train_loss: 0.0833\n",
            "68/157, train_loss: 0.1019\n",
            "69/157, train_loss: 0.0717\n",
            "70/157, train_loss: 0.0885\n",
            "71/157, train_loss: 0.0949\n",
            "72/157, train_loss: 0.1094\n",
            "73/157, train_loss: 0.0946\n",
            "74/157, train_loss: 0.0997\n",
            "75/157, train_loss: 0.1063\n",
            "76/157, train_loss: 0.0932\n",
            "77/157, train_loss: 0.0829\n",
            "78/157, train_loss: 0.0989\n",
            "79/157, train_loss: 0.1191\n",
            "80/157, train_loss: 0.0803\n",
            "81/157, train_loss: 0.0864\n",
            "82/157, train_loss: 0.1072\n",
            "83/157, train_loss: 0.0733\n",
            "84/157, train_loss: 0.1183\n",
            "85/157, train_loss: 0.0819\n",
            "86/157, train_loss: 0.0849\n",
            "87/157, train_loss: 0.0956\n",
            "88/157, train_loss: 0.0905\n",
            "89/157, train_loss: 0.0948\n",
            "90/157, train_loss: 0.0686\n",
            "91/157, train_loss: 0.0938\n",
            "92/157, train_loss: 0.0800\n",
            "93/157, train_loss: 0.0984\n",
            "94/157, train_loss: 0.0934\n",
            "95/157, train_loss: 0.0692\n",
            "96/157, train_loss: 0.0956\n",
            "97/157, train_loss: 0.0882\n",
            "98/157, train_loss: 0.0722\n",
            "99/157, train_loss: 0.0958\n",
            "100/157, train_loss: 0.0961\n",
            "101/157, train_loss: 0.0701\n",
            "102/157, train_loss: 0.0969\n",
            "103/157, train_loss: 0.0803\n",
            "104/157, train_loss: 0.0746\n",
            "105/157, train_loss: 0.0887\n",
            "106/157, train_loss: 0.0824\n",
            "107/157, train_loss: 0.0608\n",
            "108/157, train_loss: 0.0884\n",
            "109/157, train_loss: 0.0782\n",
            "110/157, train_loss: 0.0844\n",
            "111/157, train_loss: 0.0757\n",
            "112/157, train_loss: 0.0971\n",
            "113/157, train_loss: 0.0637\n",
            "114/157, train_loss: 0.0840\n",
            "115/157, train_loss: 0.0674\n",
            "116/157, train_loss: 0.0574\n",
            "117/157, train_loss: 0.0787\n",
            "118/157, train_loss: 0.0748\n",
            "119/157, train_loss: 0.0800\n",
            "120/157, train_loss: 0.0718\n",
            "121/157, train_loss: 0.0509\n",
            "122/157, train_loss: 0.1104\n",
            "123/157, train_loss: 0.0866\n",
            "124/157, train_loss: 0.0870\n",
            "125/157, train_loss: 0.0934\n",
            "126/157, train_loss: 0.0719\n",
            "127/157, train_loss: 0.0769\n",
            "128/157, train_loss: 0.0632\n",
            "129/157, train_loss: 0.0877\n",
            "130/157, train_loss: 0.0708\n",
            "131/157, train_loss: 0.0776\n",
            "132/157, train_loss: 0.0762\n",
            "133/157, train_loss: 0.0915\n",
            "134/157, train_loss: 0.0900\n",
            "135/157, train_loss: 0.0647\n",
            "136/157, train_loss: 0.0731\n",
            "137/157, train_loss: 0.0695\n",
            "138/157, train_loss: 0.0710\n",
            "139/157, train_loss: 0.0925\n",
            "140/157, train_loss: 0.0713\n",
            "141/157, train_loss: 0.0661\n",
            "142/157, train_loss: 0.0793\n",
            "143/157, train_loss: 0.0703\n",
            "144/157, train_loss: 0.0795\n",
            "145/157, train_loss: 0.0592\n",
            "146/157, train_loss: 0.0729\n",
            "147/157, train_loss: 0.0759\n",
            "148/157, train_loss: 0.0755\n",
            "149/157, train_loss: 0.0817\n",
            "150/157, train_loss: 0.0864\n",
            "151/157, train_loss: 0.0544\n",
            "152/157, train_loss: 0.0668\n",
            "153/157, train_loss: 0.0653\n",
            "154/157, train_loss: 0.0718\n",
            "155/157, train_loss: 0.0670\n",
            "156/157, train_loss: 0.0604\n",
            "157/157, train_loss: 0.0822\n",
            "158/157, train_loss: 0.0871\n",
            "epoch 3 average loss: 0.0932\n",
            "saved new best metric model\n",
            "current epoch: 3 current AUC: 0.9999 current accuracy: 0.9913 best AUC: 0.9913 at epoch: 3\n",
            "train completed, best_metric: 0.9913 at epoch: 3\n"
          ]
        }
      ],
      "source": [
        "best_metric = -1\n",
        "best_metric_epoch = -1\n",
        "epoch_loss_values = list()\n",
        "auc_metric = ROCAUCMetric()\n",
        "metric_values = list()\n",
        "for epoch in range(epoch_num):\n",
        "    print('-' * 10)\n",
        "    print(f\"epoch {epoch + 1}/{epoch_num}\")\n",
        "    model.train()\n",
        "    epoch_loss = 0\n",
        "    step = 0\n",
        "    for batch_data in train_loader:\n",
        "        step += 1\n",
        "        inputs, labels = batch_data[0].to(device), batch_data[1].to(device)\n",
        "        optimizer.zero_grad()\n",
        "        outputs = model(inputs)\n",
        "        loss = loss_function(outputs, labels)\n",
        "        loss.backward()\n",
        "        optimizer.step()\n",
        "        epoch_loss += loss.item()\n",
        "        print(f\"{step}/{len(train_ds) // train_loader.batch_size}, train_loss: {loss.item():.4f}\")\n",
        "        epoch_len = len(train_ds) // train_loader.batch_size\n",
        "    epoch_loss /= step\n",
        "    epoch_loss_values.append(epoch_loss)\n",
        "    print(f\"epoch {epoch + 1} average loss: {epoch_loss:.4f}\")\n",
        "\n",
        "    if (epoch + 1) % val_interval == 0:\n",
        "        model.eval()\n",
        "        with torch.no_grad():\n",
        "            y_pred = torch.tensor([], dtype=torch.float32, device=device)\n",
        "            y = torch.tensor([], dtype=torch.long, device=device)\n",
        "            for val_data in val_loader:\n",
        "                val_images, val_labels = val_data[0].to(device), val_data[1].to(device)\n",
        "                y_pred = torch.cat([y_pred, model(val_images)], dim=0)\n",
        "                y = torch.cat([y, val_labels], dim=0)\n",
        "            y_onehot = [to_onehot(i) for i in y]\n",
        "            y_pred_act = [act(i) for i in y_pred]\n",
        "            auc_metric(y_pred_act, y_onehot)\n",
        "            auc_result = auc_metric.aggregate()\n",
        "            auc_metric.reset()\n",
        "            del y_pred_act, y_onehot\n",
        "            metric_values.append(auc_result)\n",
        "            acc_value = torch.eq(y_pred.argmax(dim=1), y)\n",
        "            acc_metric = acc_value.sum().item() / len(acc_value)\n",
        "            if acc_metric > best_metric:\n",
        "                best_metric = acc_metric\n",
        "                best_metric_epoch = epoch + 1\n",
        "                torch.save(model.state_dict(), 'best_metric_model.pth')\n",
        "                print('saved new best metric model')\n",
        "            print(f\"current epoch: {epoch + 1} current AUC: {auc_result:.4f}\"\n",
        "                  f\" current accuracy: {acc_metric:.4f} best AUC: {best_metric:.4f}\"\n",
        "                  f\" at epoch: {best_metric_epoch}\")\n",
        "print(f\"train completed, best_metric: {best_metric:.4f} at epoch: {best_metric_epoch}\")"
      ]
    },
    {
      "cell_type": "markdown",
      "metadata": {
        "id": "kBDNC9--DtI8"
      },
      "source": [
        "## Plot the loss and metric"
      ]
    },
    {
      "cell_type": "code",
      "execution_count": 12,
      "metadata": {
        "colab": {
          "base_uri": "https://localhost:8080/",
          "height": 564
        },
        "id": "7P1BlRfsDuz4",
        "outputId": "1824079b-6083-4630-d1a2-cfb56f94e281"
      },
      "outputs": [
        {
          "output_type": "display_data",
          "data": {
            "text/plain": [
              "<Figure size 1200x600 with 2 Axes>"
            ],
            "image/png": "[encoded data removed]"
          },
          "metadata": {}
        }
      ],
      "source": [
        "plt.figure('train', (12, 6))\n",
        "plt.subplot(1, 2, 1)\n",
        "plt.title(\"Epoch Average Loss\")\n",
        "x = [i + 1 for i in range(len(epoch_loss_values))]\n",
        "y = epoch_loss_values\n",
        "plt.xlabel('epoch')\n",
        "plt.plot(x, y)\n",
        "plt.subplot(1, 2, 2)\n",
        "plt.title(\"Validation: Area under the ROC curve\")\n",
        "x = [val_interval * (i + 1) for i in range(len(metric_values))]\n",
        "y = metric_values\n",
        "plt.xlabel('epoch')\n",
        "plt.plot(x, y)\n",
        "plt.show()"
      ]
    },
    {
      "cell_type": "markdown",
      "metadata": {
        "id": "Hrx_mtTODyOe"
      },
      "source": [
        "## Evaluate the model on test dataset\n",
        "After training and validation, we already got the best model on validation test.\n",
        "We need to evaluate the model on test dataset to check whether it's robust and not over-fitting.\n",
        "We'll use these predictions to generate a classification report."
      ]
    },
    {
      "cell_type": "code",
      "execution_count": 13,
      "metadata": {
        "id": "uHAA3LUxD2b6",
        "outputId": "86f6b9ed-d403-4037-ddc6-18035432c3fd",
        "colab": {
          "base_uri": "https://localhost:8080/"
        }
      },
      "outputs": [
        {
          "output_type": "stream",
          "name": "stderr",
          "text": [
            "You are using `torch.load` with `weights_only=False` (the current default value), which uses the default pickle module implicitly. It is possible to construct malicious pickle data which will execute arbitrary code during unpickling (See https://github.com/pytorch/pytorch/blob/main/SECURITY.md#untrusted-models for more details). In a future release, the default value for `weights_only` will be flipped to `True`. This limits the functions that could be executed during unpickling. Arbitrary objects will no longer be allowed to be loaded via this mode unless they are explicitly allowlisted by the user via `torch.serialization.add_safe_globals`. We recommend you start setting `weights_only=True` for any use case where you don't have full control of the loaded file. Please open an issue on GitHub for any issues related to this experimental feature.\n"
          ]
        }
      ],
      "source": [
        "model.load_state_dict(torch.load('best_metric_model.pth'))\n",
        "model.eval()\n",
        "y_true = list()\n",
        "y_pred = list()\n",
        "with torch.no_grad():\n",
        "    for test_data in test_loader:\n",
        "        test_images, test_labels = test_data[0].to(device), test_data[1].to(device)\n",
        "        pred = model(test_images).argmax(dim=1)\n",
        "        for i in range(len(pred)):\n",
        "            y_true.append(test_labels[i].item())\n",
        "            y_pred.append(pred[i].item())"
      ]
    },
    {
      "cell_type": "code",
      "execution_count": 14,
      "metadata": {
        "colab": {
          "base_uri": "https://localhost:8080/"
        },
        "id": "zOy8uzlwD8se",
        "outputId": "2c08cde4-1728-4356-df17-4a877a4c05bf"
      },
      "outputs": [
        {
          "output_type": "stream",
          "name": "stdout",
          "text": [
            "              precision    recall  f1-score   support\n",
            "\n",
            "   AbdomenCT     0.9913    0.9698    0.9804      1058\n",
            "   BreastMRI     0.9966    0.9887    0.9926       884\n",
            "         CXR     0.9958    0.9927    0.9943       963\n",
            "     ChestCT     0.9884    1.0000    0.9942      1026\n",
            "        Hand     0.9928    0.9887    0.9908       976\n",
            "      HeadCT     0.9715    0.9960    0.9836       993\n",
            "\n",
            "    accuracy                         0.9892      5900\n",
            "   macro avg     0.9894    0.9893    0.9893      5900\n",
            "weighted avg     0.9893    0.9892    0.9891      5900\n",
            "\n"
          ]
        }
      ],
      "source": [
        "from sklearn.metrics import classification_report\n",
        "print(classification_report(y_true, y_pred, target_names=class_names, digits=4))"
      ]
    }
  ],
  "metadata": {
    "accelerator": "GPU",
    "colab": {
      "provenance": []
    },
    "gpuClass": "standard",
    "kernelspec": {
      "display_name": "Python 3",
      "name": "python3"
    }
  },
  "nbformat": 4,
  "nbformat_minor": 0
}